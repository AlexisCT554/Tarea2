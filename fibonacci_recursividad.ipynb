{
  "nbformat": 4,
  "nbformat_minor": 0,
  "metadata": {
    "colab": {
      "name": "fibonacci_recursividad.ipynb",
      "provenance": []
    },
    "kernelspec": {
      "name": "python3",
      "display_name": "Python 3"
    },
    "language_info": {
      "name": "python"
    }
  },
  "cells": [
    {
      "cell_type": "code",
      "metadata": {
        "id": "btze_6O3_MWE"
      },
      "source": [
        "def fibonacci( n ):\n",
        "  if n == 0:\n",
        "    return 0\n",
        "  elif n == 1:\n",
        "    return 1\n",
        "  else:\n",
        "    return ( fibonacci( n - 1) + fibonacci ( n-2 ))"
      ],
      "execution_count": 8,
      "outputs": []
    },
    {
      "cell_type": "code",
      "metadata": {
        "colab": {
          "base_uri": "https://localhost:8080/"
        },
        "id": "vTuQTjfg_5ZH",
        "outputId": "0bb45814-20a0-4535-f3a9-7478c00deb44"
      },
      "source": [
        "n = 17\n",
        "#print( fibonacci( n ))#\n",
        "resultado = fibonacci( n )\n",
        "print(f\"La serie fibonacci del numero {n} es {resultado}\")"
      ],
      "execution_count": 16,
      "outputs": [
        {
          "output_type": "stream",
          "name": "stdout",
          "text": [
            "La serie fibonacci del numero 17 es 1597\n"
          ]
        }
      ]
    }
  ]
}