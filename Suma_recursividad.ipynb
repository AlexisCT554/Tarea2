{
  "nbformat": 4,
  "nbformat_minor": 0,
  "metadata": {
    "colab": {
      "name": "Suma_recursividad.ipynb",
      "provenance": []
    },
    "kernelspec": {
      "name": "python3",
      "display_name": "Python 3"
    },
    "language_info": {
      "name": "python"
    }
  },
  "cells": [
    {
      "cell_type": "code",
      "metadata": {
        "id": "Ym83USxECQrw"
      },
      "source": [
        "def SumarNumeros( n ):\n",
        "  if n == 0:\n",
        "    return 0\n",
        "  else:\n",
        "    return ((n % 10 ) + (SumarNumeros( n // 10)))"
      ],
      "execution_count": 5,
      "outputs": []
    },
    {
      "cell_type": "code",
      "metadata": {
        "colab": {
          "base_uri": "https://localhost:8080/"
        },
        "id": "m7sAmhi0C6CQ",
        "outputId": "00ab3be0-cd97-4e64-cbc3-7a7c1d3a9fbf"
      },
      "source": [
        "print( SumarNumeros(12345) )"
      ],
      "execution_count": 6,
      "outputs": [
        {
          "output_type": "stream",
          "name": "stdout",
          "text": [
            "15\n"
          ]
        }
      ]
    }
  ]
}