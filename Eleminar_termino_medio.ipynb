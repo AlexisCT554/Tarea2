{
  "nbformat": 4,
  "nbformat_minor": 0,
  "metadata": {
    "colab": {
      "name": "Eleminar_termino_medio.ipynb",
      "provenance": []
    },
    "kernelspec": {
      "name": "python3",
      "display_name": "Python 3"
    },
    "language_info": {
      "name": "python"
    }
  },
  "cells": [
    {
      "cell_type": "code",
      "metadata": {
        "colab": {
          "base_uri": "https://localhost:8080/"
        },
        "id": "RtUhm1TSEdEo",
        "outputId": "d853a5bd-5fd6-4f3d-b829-44431e4ea1f0"
      },
      "source": [
        "Lista = [1, 2, 3, 4, 5, 6, 7, 8, 9, 10, 11]\n",
        "\n",
        "del(Lista[5])\n",
        "\n",
        "print (Lista)"
      ],
      "execution_count": 3,
      "outputs": [
        {
          "output_type": "stream",
          "name": "stdout",
          "text": [
            "[1, 2, 3, 4, 5, 7, 8, 9, 10, 11]\n"
          ]
        }
      ]
    }
  ]
}