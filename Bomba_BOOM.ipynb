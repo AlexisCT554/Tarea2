{
  "nbformat": 4,
  "nbformat_minor": 0,
  "metadata": {
    "colab": {
      "name": "Bomba_BOOM.ipynb",
      "provenance": []
    },
    "kernelspec": {
      "name": "python3",
      "display_name": "Python 3"
    },
    "language_info": {
      "name": "python"
    }
  },
  "cells": [
    {
      "cell_type": "code",
      "metadata": {
        "id": "3U0xOilADS4X"
      },
      "source": [
        "def Bomba( n ):\n",
        "  if n >= 0 :\n",
        "    print( n )\n",
        "    Bomba( n - 1 )\n",
        "    if n == 0:\n",
        "      print ( \"BOOMMMMM !!!\")"
      ],
      "execution_count": 5,
      "outputs": []
    },
    {
      "cell_type": "code",
      "metadata": {
        "colab": {
          "base_uri": "https://localhost:8080/"
        },
        "id": "J6Fb90iZD4Oj",
        "outputId": "4188cbaa-db8a-43ce-8690-bf9d4acb4c1a"
      },
      "source": [
        "Bomba( 10 )"
      ],
      "execution_count": 6,
      "outputs": [
        {
          "output_type": "stream",
          "name": "stdout",
          "text": [
            "10\n",
            "9\n",
            "8\n",
            "7\n",
            "6\n",
            "5\n",
            "4\n",
            "3\n",
            "2\n",
            "1\n",
            "0\n",
            "BOOMMMMM !!!\n"
          ]
        }
      ]
    }
  ]
}